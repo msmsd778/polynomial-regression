{
  "nbformat": 4,
  "nbformat_minor": 0,
  "metadata": {
    "colab": {
      "name": "Polynomial Regression.ipynb",
      "provenance": [],
      "authorship_tag": "ABX9TyN4tNrd2KIXKS3WSkWU35TW",
      "include_colab_link": true
    },
    "kernelspec": {
      "name": "python3",
      "display_name": "Python 3"
    },
    "language_info": {
      "name": "python"
    }
  },
  "cells": [
    {
      "cell_type": "markdown",
      "metadata": {
        "id": "view-in-github",
        "colab_type": "text"
      },
      "source": [
        "<a href=\"https://colab.research.google.com/github/msmsd778/polynomial-regression/blob/main/Polynomial_Regression.ipynb\" target=\"_parent\"><img src=\"https://colab.research.google.com/assets/colab-badge.svg\" alt=\"Open In Colab\"/></a>"
      ]
    },
    {
      "cell_type": "markdown",
      "metadata": {
        "id": "RU5CLSztCZ2p"
      },
      "source": [
        "# Importing Needed packages"
      ]
    },
    {
      "cell_type": "code",
      "metadata": {
        "id": "v-LguZVrCC-A"
      },
      "source": [
        "import matplotlib.pyplot as plt\n",
        "import numpy as np\n",
        "import pandas as pd\n",
        "import pylab as pl\n",
        "%matplotlib inline"
      ],
      "execution_count": 1,
      "outputs": []
    },
    {
      "cell_type": "markdown",
      "metadata": {
        "id": "Dvn9apALCdcn"
      },
      "source": [
        "# Downloading Data"
      ]
    },
    {
      "cell_type": "code",
      "metadata": {
        "colab": {
          "base_uri": "https://localhost:8080/"
        },
        "id": "TfDXEY_dCgnP",
        "outputId": "ee25de7a-f5a0-498b-8f01-f055bd149756"
      },
      "source": [
        "!wget -O FuelConsumption.csv https://cf-courses-data.s3.us.cloud-object-storage.appdomain.cloud/IBMDeveloperSkillsNetwork-ML0101EN-SkillsNetwork/labs/Module%202/data/FuelConsumptionCo2.csv"
      ],
      "execution_count": 2,
      "outputs": [
        {
          "output_type": "stream",
          "text": [
            "--2021-08-01 09:28:03--  https://cf-courses-data.s3.us.cloud-object-storage.appdomain.cloud/IBMDeveloperSkillsNetwork-ML0101EN-SkillsNetwork/labs/Module%202/data/FuelConsumptionCo2.csv\n",
            "Resolving cf-courses-data.s3.us.cloud-object-storage.appdomain.cloud (cf-courses-data.s3.us.cloud-object-storage.appdomain.cloud)... 169.45.118.108\n",
            "Connecting to cf-courses-data.s3.us.cloud-object-storage.appdomain.cloud (cf-courses-data.s3.us.cloud-object-storage.appdomain.cloud)|169.45.118.108|:443... connected.\n",
            "HTTP request sent, awaiting response... 200 OK\n",
            "Length: 72629 (71K) [text/csv]\n",
            "Saving to: ‘FuelConsumption.csv’\n",
            "\n",
            "FuelConsumption.csv 100%[===================>]  70.93K   162KB/s    in 0.4s    \n",
            "\n",
            "2021-08-01 09:28:05 (162 KB/s) - ‘FuelConsumption.csv’ saved [72629/72629]\n",
            "\n"
          ],
          "name": "stdout"
        }
      ]
    },
    {
      "cell_type": "markdown",
      "metadata": {
        "id": "W3dyq7lwCv-Y"
      },
      "source": [
        "# Reading the data in"
      ]
    },
    {
      "cell_type": "code",
      "metadata": {
        "colab": {
          "base_uri": "https://localhost:8080/",
          "height": 274
        },
        "id": "Bq9ju8VkCxhg",
        "outputId": "d0360590-20e9-4da7-dca9-499636a27f35"
      },
      "source": [
        "df = pd.read_csv(\"FuelConsumption.csv\")\n",
        "df.head()"
      ],
      "execution_count": 3,
      "outputs": [
        {
          "output_type": "execute_result",
          "data": {
            "text/html": [
              "<div>\n",
              "<style scoped>\n",
              "    .dataframe tbody tr th:only-of-type {\n",
              "        vertical-align: middle;\n",
              "    }\n",
              "\n",
              "    .dataframe tbody tr th {\n",
              "        vertical-align: top;\n",
              "    }\n",
              "\n",
              "    .dataframe thead th {\n",
              "        text-align: right;\n",
              "    }\n",
              "</style>\n",
              "<table border=\"1\" class=\"dataframe\">\n",
              "  <thead>\n",
              "    <tr style=\"text-align: right;\">\n",
              "      <th></th>\n",
              "      <th>MODELYEAR</th>\n",
              "      <th>MAKE</th>\n",
              "      <th>MODEL</th>\n",
              "      <th>VEHICLECLASS</th>\n",
              "      <th>ENGINESIZE</th>\n",
              "      <th>CYLINDERS</th>\n",
              "      <th>TRANSMISSION</th>\n",
              "      <th>FUELTYPE</th>\n",
              "      <th>FUELCONSUMPTION_CITY</th>\n",
              "      <th>FUELCONSUMPTION_HWY</th>\n",
              "      <th>FUELCONSUMPTION_COMB</th>\n",
              "      <th>FUELCONSUMPTION_COMB_MPG</th>\n",
              "      <th>CO2EMISSIONS</th>\n",
              "    </tr>\n",
              "  </thead>\n",
              "  <tbody>\n",
              "    <tr>\n",
              "      <th>0</th>\n",
              "      <td>2014</td>\n",
              "      <td>ACURA</td>\n",
              "      <td>ILX</td>\n",
              "      <td>COMPACT</td>\n",
              "      <td>2.0</td>\n",
              "      <td>4</td>\n",
              "      <td>AS5</td>\n",
              "      <td>Z</td>\n",
              "      <td>9.9</td>\n",
              "      <td>6.7</td>\n",
              "      <td>8.5</td>\n",
              "      <td>33</td>\n",
              "      <td>196</td>\n",
              "    </tr>\n",
              "    <tr>\n",
              "      <th>1</th>\n",
              "      <td>2014</td>\n",
              "      <td>ACURA</td>\n",
              "      <td>ILX</td>\n",
              "      <td>COMPACT</td>\n",
              "      <td>2.4</td>\n",
              "      <td>4</td>\n",
              "      <td>M6</td>\n",
              "      <td>Z</td>\n",
              "      <td>11.2</td>\n",
              "      <td>7.7</td>\n",
              "      <td>9.6</td>\n",
              "      <td>29</td>\n",
              "      <td>221</td>\n",
              "    </tr>\n",
              "    <tr>\n",
              "      <th>2</th>\n",
              "      <td>2014</td>\n",
              "      <td>ACURA</td>\n",
              "      <td>ILX HYBRID</td>\n",
              "      <td>COMPACT</td>\n",
              "      <td>1.5</td>\n",
              "      <td>4</td>\n",
              "      <td>AV7</td>\n",
              "      <td>Z</td>\n",
              "      <td>6.0</td>\n",
              "      <td>5.8</td>\n",
              "      <td>5.9</td>\n",
              "      <td>48</td>\n",
              "      <td>136</td>\n",
              "    </tr>\n",
              "    <tr>\n",
              "      <th>3</th>\n",
              "      <td>2014</td>\n",
              "      <td>ACURA</td>\n",
              "      <td>MDX 4WD</td>\n",
              "      <td>SUV - SMALL</td>\n",
              "      <td>3.5</td>\n",
              "      <td>6</td>\n",
              "      <td>AS6</td>\n",
              "      <td>Z</td>\n",
              "      <td>12.7</td>\n",
              "      <td>9.1</td>\n",
              "      <td>11.1</td>\n",
              "      <td>25</td>\n",
              "      <td>255</td>\n",
              "    </tr>\n",
              "    <tr>\n",
              "      <th>4</th>\n",
              "      <td>2014</td>\n",
              "      <td>ACURA</td>\n",
              "      <td>RDX AWD</td>\n",
              "      <td>SUV - SMALL</td>\n",
              "      <td>3.5</td>\n",
              "      <td>6</td>\n",
              "      <td>AS6</td>\n",
              "      <td>Z</td>\n",
              "      <td>12.1</td>\n",
              "      <td>8.7</td>\n",
              "      <td>10.6</td>\n",
              "      <td>27</td>\n",
              "      <td>244</td>\n",
              "    </tr>\n",
              "  </tbody>\n",
              "</table>\n",
              "</div>"
            ],
            "text/plain": [
              "   MODELYEAR   MAKE  ... FUELCONSUMPTION_COMB_MPG CO2EMISSIONS\n",
              "0       2014  ACURA  ...                       33          196\n",
              "1       2014  ACURA  ...                       29          221\n",
              "2       2014  ACURA  ...                       48          136\n",
              "3       2014  ACURA  ...                       25          255\n",
              "4       2014  ACURA  ...                       27          244\n",
              "\n",
              "[5 rows x 13 columns]"
            ]
          },
          "metadata": {
            "tags": []
          },
          "execution_count": 3
        }
      ]
    },
    {
      "cell_type": "code",
      "metadata": {
        "colab": {
          "base_uri": "https://localhost:8080/",
          "height": 326
        },
        "id": "FzXRFOAUC-BQ",
        "outputId": "9815e6aa-8b7e-42c1-992e-9c4637652c78"
      },
      "source": [
        "cdf = df[['ENGINESIZE','CYLINDERS','FUELCONSUMPTION_COMB','CO2EMISSIONS']]\n",
        "cdf.head(9)"
      ],
      "execution_count": 4,
      "outputs": [
        {
          "output_type": "execute_result",
          "data": {
            "text/html": [
              "<div>\n",
              "<style scoped>\n",
              "    .dataframe tbody tr th:only-of-type {\n",
              "        vertical-align: middle;\n",
              "    }\n",
              "\n",
              "    .dataframe tbody tr th {\n",
              "        vertical-align: top;\n",
              "    }\n",
              "\n",
              "    .dataframe thead th {\n",
              "        text-align: right;\n",
              "    }\n",
              "</style>\n",
              "<table border=\"1\" class=\"dataframe\">\n",
              "  <thead>\n",
              "    <tr style=\"text-align: right;\">\n",
              "      <th></th>\n",
              "      <th>ENGINESIZE</th>\n",
              "      <th>CYLINDERS</th>\n",
              "      <th>FUELCONSUMPTION_COMB</th>\n",
              "      <th>CO2EMISSIONS</th>\n",
              "    </tr>\n",
              "  </thead>\n",
              "  <tbody>\n",
              "    <tr>\n",
              "      <th>0</th>\n",
              "      <td>2.0</td>\n",
              "      <td>4</td>\n",
              "      <td>8.5</td>\n",
              "      <td>196</td>\n",
              "    </tr>\n",
              "    <tr>\n",
              "      <th>1</th>\n",
              "      <td>2.4</td>\n",
              "      <td>4</td>\n",
              "      <td>9.6</td>\n",
              "      <td>221</td>\n",
              "    </tr>\n",
              "    <tr>\n",
              "      <th>2</th>\n",
              "      <td>1.5</td>\n",
              "      <td>4</td>\n",
              "      <td>5.9</td>\n",
              "      <td>136</td>\n",
              "    </tr>\n",
              "    <tr>\n",
              "      <th>3</th>\n",
              "      <td>3.5</td>\n",
              "      <td>6</td>\n",
              "      <td>11.1</td>\n",
              "      <td>255</td>\n",
              "    </tr>\n",
              "    <tr>\n",
              "      <th>4</th>\n",
              "      <td>3.5</td>\n",
              "      <td>6</td>\n",
              "      <td>10.6</td>\n",
              "      <td>244</td>\n",
              "    </tr>\n",
              "    <tr>\n",
              "      <th>5</th>\n",
              "      <td>3.5</td>\n",
              "      <td>6</td>\n",
              "      <td>10.0</td>\n",
              "      <td>230</td>\n",
              "    </tr>\n",
              "    <tr>\n",
              "      <th>6</th>\n",
              "      <td>3.5</td>\n",
              "      <td>6</td>\n",
              "      <td>10.1</td>\n",
              "      <td>232</td>\n",
              "    </tr>\n",
              "    <tr>\n",
              "      <th>7</th>\n",
              "      <td>3.7</td>\n",
              "      <td>6</td>\n",
              "      <td>11.1</td>\n",
              "      <td>255</td>\n",
              "    </tr>\n",
              "    <tr>\n",
              "      <th>8</th>\n",
              "      <td>3.7</td>\n",
              "      <td>6</td>\n",
              "      <td>11.6</td>\n",
              "      <td>267</td>\n",
              "    </tr>\n",
              "  </tbody>\n",
              "</table>\n",
              "</div>"
            ],
            "text/plain": [
              "   ENGINESIZE  CYLINDERS  FUELCONSUMPTION_COMB  CO2EMISSIONS\n",
              "0         2.0          4                   8.5           196\n",
              "1         2.4          4                   9.6           221\n",
              "2         1.5          4                   5.9           136\n",
              "3         3.5          6                  11.1           255\n",
              "4         3.5          6                  10.6           244\n",
              "5         3.5          6                  10.0           230\n",
              "6         3.5          6                  10.1           232\n",
              "7         3.7          6                  11.1           255\n",
              "8         3.7          6                  11.6           267"
            ]
          },
          "metadata": {
            "tags": []
          },
          "execution_count": 4
        }
      ]
    },
    {
      "cell_type": "markdown",
      "metadata": {
        "id": "xMSNGZ33DqOg"
      },
      "source": [
        "Let's plot Emission values with respect to Engine size:"
      ]
    },
    {
      "cell_type": "code",
      "metadata": {
        "colab": {
          "base_uri": "https://localhost:8080/",
          "height": 280
        },
        "id": "s1VJCim4DIsB",
        "outputId": "d8feaef7-ab94-4fb5-ea19-6e58a903423c"
      },
      "source": [
        "plt.scatter(cdf.ENGINESIZE, cdf.CO2EMISSIONS, color='blue')\n",
        "plt.xlabel(\"Engine size\")\n",
        "plt.ylabel(\"Emission\")\n",
        "plt.show()"
      ],
      "execution_count": 5,
      "outputs": [
        {
          "output_type": "display_data",
          "data": {
            "image/png": "[encoded data removed]",
            "text/plain": [
              "<Figure size 432x288 with 1 Axes>"
            ]
          },
          "metadata": {
            "tags": [],
            "needs_background": "light"
          }
        }
      ]
    },
    {
      "cell_type": "markdown",
      "metadata": {
        "id": "nHepifx_DtJx"
      },
      "source": [
        "# Creating train and test dataset"
      ]
    },
    {
      "cell_type": "code",
      "metadata": {
        "id": "OoOkH43iDv6o"
      },
      "source": [
        "msk = np.random.rand(len(df)) < 0.8\n",
        "train = cdf[msk]\n",
        "test = cdf[~msk]"
      ],
      "execution_count": 13,
      "outputs": []
    },
    {
      "cell_type": "markdown",
      "metadata": {
        "id": "Bdd4-_UjEJQo"
      },
      "source": [
        "# Polynomial regression"
      ]
    },
    {
      "cell_type": "code",
      "metadata": {
        "colab": {
          "base_uri": "https://localhost:8080/"
        },
        "id": "nIbRPHCCEKdY",
        "outputId": "f272acdd-716c-40ad-9527-2a311f2eaf72"
      },
      "source": [
        "from sklearn.preprocessing import PolynomialFeatures\n",
        "from sklearn import linear_model\n",
        "\n",
        "train_x = np.asanyarray(train[['ENGINESIZE']])\n",
        "train_y = np.asanyarray(train[['CO2EMISSIONS']])\n",
        "\n",
        "test_x = np.asanyarray(test[['ENGINESIZE']])\n",
        "test_y = np.asanyarray(test[['CO2EMISSIONS']])\n",
        "\n",
        "poly = PolynomialFeatures(degree=2)\n",
        "train_x_poly = poly.fit_transform(train_x)\n",
        "train_x_poly"
      ],
      "execution_count": 17,
      "outputs": [
        {
          "output_type": "execute_result",
          "data": {
            "text/plain": [
              "array([[ 1.  ,  2.4 ,  5.76],\n",
              "       [ 1.  ,  3.5 , 12.25],\n",
              "       [ 1.  ,  3.5 , 12.25],\n",
              "       ...,\n",
              "       [ 1.  ,  3.  ,  9.  ],\n",
              "       [ 1.  ,  3.2 , 10.24],\n",
              "       [ 1.  ,  3.2 , 10.24]])"
            ]
          },
          "metadata": {
            "tags": []
          },
          "execution_count": 17
        }
      ]
    },
    {
      "cell_type": "markdown",
      "metadata": {
        "id": "NOTeXr9BNg0b"
      },
      "source": [
        "![Screenshot 2021-08-01 144601.png](data:image/png;base64,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)"
      ]
    },
    {
      "cell_type": "code",
      "metadata": {
        "colab": {
          "base_uri": "https://localhost:8080/"
        },
        "id": "xtBqBevYNxmD",
        "outputId": "4865309d-3b33-4ee4-d9e1-a1137fb10639"
      },
      "source": [
        "clf = linear_model.LinearRegression()\n",
        "train_y_ = clf.fit(train_x_poly, train_y)\n",
        "\n",
        "print('Coefficients: ' , clf.coef_)\n",
        "print('Intercept: ', clf.intercept_)"
      ],
      "execution_count": 8,
      "outputs": [
        {
          "output_type": "stream",
          "text": [
            "Coefficients:  [[ 0.         47.93515221 -1.12489851]]\n",
            "Intercept:  [111.09440935]\n"
          ],
          "name": "stdout"
        }
      ]
    },
    {
      "cell_type": "code",
      "metadata": {
        "colab": {
          "base_uri": "https://localhost:8080/",
          "height": 296
        },
        "id": "xj9mZbQ_ZKNo",
        "outputId": "fbdfdb95-510c-4928-b4ca-bc0ee3b9a2eb"
      },
      "source": [
        "plt.scatter(train.ENGINESIZE, train.CO2EMISSIONS, color='blue')\n",
        "XX = np.arange(0.0, 10.0, 0.1)\n",
        "yy = clf.intercept_[0] + clf.coef_[0][1]*XX + clf.coef_[0][2]*np.power(XX, 2)\n",
        "plt.plot(XX, yy, '-r')\n",
        "plt.xlabel('Engine size')\n",
        "plt.ylabel('Emission')"
      ],
      "execution_count": 25,
      "outputs": [
        {
          "output_type": "execute_result",
          "data": {
            "text/plain": [
              "Text(0, 0.5, 'Emission')"
            ]
          },
          "metadata": {
            "tags": []
          },
          "execution_count": 25
        },
        {
          "output_type": "display_data",
          "data": {
            "image/png": "[encoded data removed]",
            "text/plain": [
              "<Figure size 432x288 with 1 Axes>"
            ]
          },
          "metadata": {
            "tags": [],
            "needs_background": "light"
          }
        }
      ]
    },
    {
      "cell_type": "markdown",
      "metadata": {
        "id": "31pjqyFVb3Em"
      },
      "source": [
        "# Evaluation"
      ]
    },
    {
      "cell_type": "code",
      "metadata": {
        "colab": {
          "base_uri": "https://localhost:8080/"
        },
        "id": "W8sLAa_Cb5aW",
        "outputId": "1e90e81c-9693-413e-f8be-5cdaa8f44f94"
      },
      "source": [
        "from sklearn.metrics import r2_score\n",
        "\n",
        "test_x_poly = poly.fit_transform(test_x)\n",
        "test_y_ = clf.predict(test_x_poly)\n",
        "\n",
        "print(\"Mean absolute error: %.2f\" % np.mean(np.absolute(test_y_ - test_y)))\n",
        "print(\"Residual sum of squares (MSE): %.2f\" % np.mean((test_y_ - test_y) ** 2))\n",
        "print(\"R2-score: %.2f\" % r2_score(test_y, test_y_))"
      ],
      "execution_count": 26,
      "outputs": [
        {
          "output_type": "stream",
          "text": [
            "Mean absolute error: 23.28\n",
            "Residual sum of squares (MSE): 915.95\n",
            "R2-score: 0.78\n"
          ],
          "name": "stdout"
        }
      ]
    },
    {
      "cell_type": "markdown",
      "metadata": {
        "id": "vjf4Ldyqi0Tg"
      },
      "source": [
        "using a polynomial regression with the dataset but this time with degree three (cubic)."
      ]
    },
    {
      "cell_type": "code",
      "metadata": {
        "colab": {
          "base_uri": "https://localhost:8080/",
          "height": 365
        },
        "id": "GWmRMO41i8hV",
        "outputId": "c36151e0-7c1b-4c07-9c57-fd985005023b"
      },
      "source": [
        "poly = PolynomialFeatures(degree=3)\n",
        "train_x_poly = poly.fit_transform(train_x)\n",
        "clf = linear_model.LinearRegression()\n",
        "train_y_ = clf.fit(train_x_poly, train_y)\n",
        "print ('Coefficients: ', clf.coef_)\n",
        "print ('Intercept: ', clf.intercept_)\n",
        "\n",
        "plt.scatter(train.ENGINESIZE, train.CO2EMISSIONS, color='blue')\n",
        "XX = np.arange(0.0, 10.0, 0.1)\n",
        "yy = clf.intercept_[0] + clf.coef_[0][1]*XX + clf.coef_[0][2]*np.power(XX, 2) + clf.coef_[0][3]*np.power(XX, 3)\n",
        "plt.plot(XX, yy, '-r')\n",
        "plt.xlabel('Engine size')\n",
        "plt.ylabel('Emission')\n",
        "test_x_poly = poly.fit_transform(test_x)\n",
        "test_y_ = clf.predict(test_x_poly)\n",
        "\n",
        "print(\"Mean absolute error: %.2f\" % np.mean(np.absolute(test_y_ - test_y)))\n",
        "print(\"Residual sum of squares (MSE): %.2f\" % np.mean((test_y_ - test_y) ** 2))\n",
        "print(\"R2-score: %.2f\" % r2_score(test_y,test_y_))"
      ],
      "execution_count": 32,
      "outputs": [
        {
          "output_type": "stream",
          "text": [
            "Coefficients:  [[ 0.         30.72146053  4.07399512 -0.48549974]]\n",
            "Intercept:  [127.82306457]\n",
            "Mean absolute error: 23.39\n",
            "Residual sum of squares (MSE): 935.42\n",
            "R2-score: 0.77\n"
          ],
          "name": "stdout"
        },
        {
          "output_type": "display_data",
          "data": {
            "image/png": "[encoded data removed]",
            "text/plain": [
              "<Figure size 432x288 with 1 Axes>"
            ]
          },
          "metadata": {
            "tags": [],
            "needs_background": "light"
          }
        }
      ]
    }
  ]
}